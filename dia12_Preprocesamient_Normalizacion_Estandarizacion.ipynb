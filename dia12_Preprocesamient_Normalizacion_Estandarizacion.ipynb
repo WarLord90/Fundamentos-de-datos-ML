{
 "cells": [
  {
   "cell_type": "code",
   "execution_count": 1,
   "id": "46f27af2",
   "metadata": {},
   "outputs": [],
   "source": [
    "import pandas as pd\n",
    "import numpy as np\n",
    "from sklearn.model_selection import train_test_split\n",
    "from sklearn.preprocessing import MinMaxScaler, StandardScaler\n"
   ]
  },
  {
   "cell_type": "code",
   "execution_count": 2,
   "id": "6a5a22b1",
   "metadata": {},
   "outputs": [],
   "source": [
    "data = {\n",
    "    \"Agua\": [200, 180, 210, 190, 205],\n",
    "    \"Luz\": [500, 520, 510, 495, 505],\n",
    "    \"Gasolina\": [1200, 1150, 1230, 1190, 1210],\n",
    "    \"Super\": [2500, 2400, 2600, 2550, 2480],\n",
    "    \"Renta\": [6000, 6000, 6000, 6000, 6000],\n",
    "    \"Total\": [10400, 10250, 10950, 10800, 10400]\n",
    "}\n",
    "df = pd.DataFrame(data)\n",
    "\n",
    "X = df.drop(\"Total\", axis=1)\n",
    "y = df[\"Total\"]\n"
   ]
  },
  {
   "cell_type": "code",
   "execution_count": 3,
   "id": "24ba460a",
   "metadata": {},
   "outputs": [
    {
     "name": "stdout",
     "output_type": "stream",
     "text": [
      "Datos normalizados (0-1):\n",
      "[[0.66666667 0.2        0.625      0.5        0.        ]\n",
      " [0.         1.         0.         0.         0.        ]\n",
      " [1.         0.6        1.         1.         0.        ]\n",
      " [0.33333333 0.         0.5        0.75       0.        ]\n",
      " [0.83333333 0.4        0.75       0.4        0.        ]]\n"
     ]
    }
   ],
   "source": [
    "scaler_minmax = MinMaxScaler()\n",
    "X_normalizado = scaler_minmax.fit_transform(X)\n",
    "\n",
    "print(\"Datos normalizados (0-1):\")\n",
    "print(X_normalizado)\n"
   ]
  },
  {
   "cell_type": "code",
   "execution_count": 4,
   "id": "388b9bfa",
   "metadata": {},
   "outputs": [
    {
     "name": "stdout",
     "output_type": "stream",
     "text": [
      "Datos estandarizados (media=0, std=1):\n",
      "[[ 0.27854301 -0.69748583  0.15075567 -0.08900862  0.        ]\n",
      " [-1.57841037  1.62746694 -1.73369023 -1.5724857   0.        ]\n",
      " [ 1.2070197   0.46499055  1.28142321  1.39446845  0.        ]\n",
      " [-0.64993368 -1.27872403 -0.22613351  0.65272991  0.        ]\n",
      " [ 0.74278135 -0.11624764  0.52764485 -0.38570404  0.        ]]\n"
     ]
    }
   ],
   "source": [
    "scaler_std = StandardScaler()\n",
    "X_estandarizado = scaler_std.fit_transform(X)\n",
    "\n",
    "print(\"Datos estandarizados (media=0, std=1):\")\n",
    "print(X_estandarizado)\n"
   ]
  },
  {
   "cell_type": "code",
   "execution_count": 5,
   "id": "47cac2e1",
   "metadata": {},
   "outputs": [
    {
     "name": "stdout",
     "output_type": "stream",
     "text": [
      "Original:\n",
      "   Agua  Luz  Gasolina  Super  Renta\n",
      "0   200  500      1200   2500   6000\n",
      "1   180  520      1150   2400   6000\n",
      "2   210  510      1230   2600   6000\n",
      "3   190  495      1190   2550   6000\n",
      "4   205  505      1210   2480   6000\n",
      "\n",
      "Normalizado (0-1):\n",
      "       Agua  Luz  Gasolina  Super  Renta\n",
      "0  0.666667  0.2     0.625   0.50    0.0\n",
      "1  0.000000  1.0     0.000   0.00    0.0\n",
      "2  1.000000  0.6     1.000   1.00    0.0\n",
      "3  0.333333  0.0     0.500   0.75    0.0\n",
      "4  0.833333  0.4     0.750   0.40    0.0\n",
      "\n",
      "Estandarizado (media=0, std=1):\n",
      "       Agua       Luz  Gasolina     Super  Renta\n",
      "0  0.278543 -0.697486  0.150756 -0.089009    0.0\n",
      "1 -1.578410  1.627467 -1.733690 -1.572486    0.0\n",
      "2  1.207020  0.464991  1.281423  1.394468    0.0\n",
      "3 -0.649934 -1.278724 -0.226134  0.652730    0.0\n",
      "4  0.742781 -0.116248  0.527645 -0.385704    0.0\n"
     ]
    }
   ],
   "source": [
    "print(\"Original:\")\n",
    "print(X.head())\n",
    "\n",
    "print(\"\\nNormalizado (0-1):\")\n",
    "print(pd.DataFrame(X_normalizado, columns=X.columns).head())\n",
    "\n",
    "print(\"\\nEstandarizado (media=0, std=1):\")\n",
    "print(pd.DataFrame(X_estandarizado, columns=X.columns).head())\n"
   ]
  }
 ],
 "metadata": {
  "kernelspec": {
   "display_name": ".venv",
   "language": "python",
   "name": "python3"
  },
  "language_info": {
   "codemirror_mode": {
    "name": "ipython",
    "version": 3
   },
   "file_extension": ".py",
   "mimetype": "text/x-python",
   "name": "python",
   "nbconvert_exporter": "python",
   "pygments_lexer": "ipython3",
   "version": "3.11.9"
  }
 },
 "nbformat": 4,
 "nbformat_minor": 5
}
