{
 "cells": [
  {
   "cell_type": "code",
   "execution_count": 11,
   "id": "87251891",
   "metadata": {},
   "outputs": [],
   "source": [
    "import pandas as pd\n",
    "import numpy as np\n",
    "from sklearn.model_selection import train_test_split\n",
    "from sklearn.linear_model import LinearRegression\n",
    "from sklearn.metrics import mean_absolute_error, mean_squared_error, r2_score\n",
    "import joblib\n",
    "\n"
   ]
  },
  {
   "cell_type": "code",
   "execution_count": 17,
   "id": "044e4e6e",
   "metadata": {},
   "outputs": [],
   "source": [
    "# Datos de ejemplo (puedes cambiar los valores por tus propios gastos)\n",
    "data = {\n",
    "    \"Agua\": [200, 180, 210, 190, 205],\n",
    "    \"Luz\": [500, 520, 510, 495, 505],\n",
    "    \"Gasolina\": [1200, 1150, 1230, 1190, 1210],\n",
    "    \"Super\": [2500, 2400, 2600, 2550, 2480],\n",
    "    \"Renta\": [6000, 6000, 6000, 6000, 6000],\n",
    "    \"Total\": [10400, 10250, 10950, 10800, 10400]\n",
    "}\n",
    "df = pd.DataFrame(data)\n",
    "\n",
    "X = df.drop(\"Total\", axis=1)\n",
    "y = df[\"Total\"]\n",
    "\n",
    "X_train, X_test, y_train, y_test = train_test_split(X, y, test_size=0.3, random_state=42)\n"
   ]
  },
  {
   "cell_type": "code",
   "execution_count": 18,
   "id": "2fc55765",
   "metadata": {},
   "outputs": [
    {
     "name": "stdout",
     "output_type": "stream",
     "text": [
      "Coeficientes: [-2.36642221 -1.35149293 -3.0395495   6.78365636  0.        ]\n",
      "Intercepto: -1762.6506024096507\n"
     ]
    }
   ],
   "source": [
    "modelo = LinearRegression()\n",
    "modelo.fit(X_train, y_train)\n",
    "\n",
    "print(\"Coeficientes:\", modelo.coef_)\n",
    "print(\"Intercepto:\", modelo.intercept_)\n"
   ]
  },
  {
   "cell_type": "code",
   "execution_count": 19,
   "id": "e286e029",
   "metadata": {},
   "outputs": [
    {
     "name": "stdout",
     "output_type": "stream",
     "text": [
      "Guardado en 'modelo_gastos.pkl' con features: ['Agua', 'Luz', 'Gasolina', 'Super', 'Renta']\n"
     ]
    }
   ],
   "source": [
    "# Guardar el modelo entrenado en un archivo\n",
    "bundle = {\n",
    "    \"model\": modelo,\n",
    "    \"features\": X_train.columns.tolist()  # orden exacto usado al entrenar\n",
    "}\n",
    "joblib.dump(bundle, \"modelo_gastos.pkl\")\n",
    "print(\"Guardado en 'modelo_gastos.pkl' con features:\", bundle[\"features\"])\n",
    "\n",
    "\n"
   ]
  },
  {
   "cell_type": "code",
   "execution_count": 20,
   "id": "dcf5bf0b",
   "metadata": {},
   "outputs": [
    {
     "name": "stdout",
     "output_type": "stream",
     "text": [
      "Predicción de gasto total: 10097.943949711891\n"
     ]
    }
   ],
   "source": [
    "# Cargar el modelo desde el archivo\n",
    "bundle = joblib.load(\"modelo_gastos.pkl\")\n",
    "modelo_cargado = bundle[\"model\"]\n",
    "features = bundle[\"features\"]\n",
    "\n",
    "# NUEVO ejemplo de entrada (puedes cambiar valores)\n",
    "nuevo = pd.DataFrame({\n",
    "    \"Agua\": [210],\n",
    "    \"Gasolina\": [1180],\n",
    "    \"Luz\": [500],\n",
    "    \"Renta\": [6000],\n",
    "    \"Super\": [2450]\n",
    "})\n",
    "\n",
    "# Alinear columnas al orden del entrenamiento\n",
    "nuevo = nuevo.reindex(columns=features)\n",
    "\n",
    "prediccion = modelo_cargado.predict(nuevo)[0]\n",
    "print(\"Predicción de gasto total:\", prediccion)\n",
    "\n"
   ]
  },
  {
   "cell_type": "code",
   "execution_count": 22,
   "id": "6561d770",
   "metadata": {},
   "outputs": [
    {
     "name": "stdout",
     "output_type": "stream",
     "text": [
      "MAE : 270.3738868517521\n",
      "RMSE: 283.6357135570883\n",
      "R²  : -13.30208320089576\n"
     ]
    }
   ],
   "source": [
    "# Alinear X_test al mismo orden por seguridad\n",
    "X_test_aligned = X_test.reindex(columns=features)\n",
    "\n",
    "y_pred_test = modelo_cargado.predict(X_test_aligned)\n",
    "\n",
    "mae = mean_absolute_error(y_test, y_pred_test)\n",
    "mse = mean_squared_error(y_test, y_pred_test)  # aquí no usamos squared=False\n",
    "rmse = np.sqrt(mse)  # sacamos raíz cuadrada manualmente\n",
    "r2 = r2_score(y_test, y_pred_test)\n",
    "\n",
    "print(\"MAE :\", mae)\n",
    "print(\"RMSE:\", rmse)\n",
    "print(\"R²  :\", r2)\n",
    "\n"
   ]
  }
 ],
 "metadata": {
  "kernelspec": {
   "display_name": ".venv",
   "language": "python",
   "name": "python3"
  },
  "language_info": {
   "codemirror_mode": {
    "name": "ipython",
    "version": 3
   },
   "file_extension": ".py",
   "mimetype": "text/x-python",
   "name": "python",
   "nbconvert_exporter": "python",
   "pygments_lexer": "ipython3",
   "version": "3.11.9"
  }
 },
 "nbformat": 4,
 "nbformat_minor": 5
}
