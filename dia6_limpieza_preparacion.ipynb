{
 "cells": [
  {
   "cell_type": "code",
   "execution_count": 10,
   "id": "e7869e43",
   "metadata": {},
   "outputs": [
    {
     "name": "stdout",
     "output_type": "stream",
     "text": [
      "Data original:\n",
      "    Concepto   Monto         Mes\n",
      "0     Renta  2750.0      Agosto\n",
      "1     Super   900.0      Agosto\n",
      "2  Gasolina     NaN  Septiembre\n",
      "3       Luz   600.0      Agosto\n",
      "4      Agua   400.0        None\n",
      "5      None  1200.0  Septiembre\n",
      "\n",
      "Nulos por columna:\n",
      " Concepto    1\n",
      "Monto       1\n",
      "Mes         1\n",
      "dtype: int64\n",
      "\n",
      "Data limpia:\n",
      "    Concepto   Monto          Mes\n",
      "0     Renta  2750.0       Agosto\n",
      "1     Super   900.0       Agosto\n",
      "2  Gasolina     0.0   Septiembre\n",
      "3       Luz   600.0       Agosto\n",
      "4      Agua   400.0  Desconocido\n"
     ]
    }
   ],
   "source": [
    "import pandas as pd\n",
    "import numpy as np\n",
    "\n",
    "data = {\n",
    "    \"Concepto\": [\"Renta\", \"Super\", \"Gasolina\", \"Luz\", \"Agua\", None],\n",
    "    \"Monto\": [2750, 900, None, 600, 400, 1200],\n",
    "    \"Mes\": [\"Agosto\", \"Agosto\", \"Septiembre\", \"Agosto\", None, \"Septiembre\"]\n",
    "}\n",
    "\n",
    "df = pd.DataFrame(data)\n",
    "print(\"Data original:\\n\", df)\n",
    "\n",
    "# Ver cuántos nulos hay por columna\n",
    "print(\"\\nNulos por columna:\\n\", df.isnull().sum())\n",
    "\n",
    "# Rellenar nulos en 'Monto' con 0\n",
    "df[\"Monto\"] = df[\"Monto\"].fillna(0)\n",
    "\n",
    "# Rellenar nulos en 'Mes' con un valor por defecto\n",
    "df[\"Mes\"] = df[\"Mes\"].fillna(\"Desconocido\")\n",
    "\n",
    "# Eliminar filas con Concepto vacío\n",
    "df = df.dropna(subset=[\"Concepto\"])\n",
    "\n",
    "print(\"\\nData limpia:\\n\", df)\n"
   ]
  }
 ],
 "metadata": {
  "kernelspec": {
   "display_name": ".venv",
   "language": "python",
   "name": "python3"
  },
  "language_info": {
   "codemirror_mode": {
    "name": "ipython",
    "version": 3
   },
   "file_extension": ".py",
   "mimetype": "text/x-python",
   "name": "python",
   "nbconvert_exporter": "python",
   "pygments_lexer": "ipython3",
   "version": "3.11.9"
  }
 },
 "nbformat": 4,
 "nbformat_minor": 5
}
