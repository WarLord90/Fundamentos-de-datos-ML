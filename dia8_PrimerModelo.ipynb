{
 "cells": [
  {
   "cell_type": "code",
   "execution_count": 8,
   "id": "c1ab7055",
   "metadata": {},
   "outputs": [
    {
     "name": "stdout",
     "output_type": "stream",
     "text": [
      "   Concepto  Monto\n",
      "0     Renta   2750\n",
      "1     Super    900\n",
      "2  Gasolina   1200\n",
      "3     Super   1100\n",
      "4  Gasolina    800\n",
      "5       Luz    600\n",
      "6      Agua    400\n",
      "7     Renta   2750\n",
      "8      Agua    150\n"
     ]
    }
   ],
   "source": [
    "import pandas as pd\n",
    "\n",
    "data = {\n",
    "    \"Concepto\": [\"Renta\", \"Super\", \"Gasolina\", \"Super\", \"Gasolina\", \"Luz\", \"Agua\", \"Renta\", \"Agua\"],\n",
    "    \"Monto\": [2750, 900, 1200, 1100, 800, 600, 400, 2750, 150],\n",
    "}\n",
    "\n",
    "df = pd.DataFrame(data)\n",
    "print(df)\n"
   ]
  },
  {
   "cell_type": "code",
   "execution_count": 9,
   "id": "49d89179",
   "metadata": {},
   "outputs": [],
   "source": [
    "# Preprocesamiento y modelo con Pipeline\n",
    "from sklearn.model_selection import train_test_split\n",
    "from sklearn.linear_model import LinearRegression\n",
    "from sklearn.preprocessing import OneHotEncoder\n",
    "from sklearn.compose import ColumnTransformer\n",
    "from sklearn.pipeline import Pipeline\n",
    "\n",
    "# Usamos la columna original (sin get_dummies manual)\n",
    "X = df[[\"Concepto\"]]\n",
    "y = df[\"Monto\"]\n",
    "\n",
    "# OneHotEncoder con drop='first' y tolerante a categorías nuevas\n",
    "pre = ColumnTransformer(\n",
    "    transformers=[\n",
    "        (\"cat\", OneHotEncoder(drop=\"first\", handle_unknown=\"ignore\"), [\"Concepto\"])\n",
    "    ],\n",
    "    remainder=\"drop\"\n",
    ")\n",
    "\n",
    "pipe = Pipeline(steps=[\n",
    "    (\"prep\", pre),\n",
    "    (\"model\", LinearRegression())\n",
    "])\n",
    "\n"
   ]
  },
  {
   "cell_type": "code",
   "execution_count": 10,
   "id": "77a21691",
   "metadata": {},
   "outputs": [
    {
     "name": "stdout",
     "output_type": "stream",
     "text": [
      "Coeficientes: {'cat__Concepto_Gasolina': np.float64(724.9999999999999), 'cat__Concepto_Renta': np.float64(2475.0), 'cat__Concepto_Super': np.float64(824.9999999999998)}\n",
      "Intercepto: 275.0000000000002\n"
     ]
    }
   ],
   "source": [
    "# Split + entrenamiento\n",
    "X_train, X_test, y_train, y_test = train_test_split(\n",
    "    X, y, test_size=0.3, random_state=42\n",
    ")\n",
    "\n",
    "pipe.fit(X_train, y_train)\n",
    "\n",
    "# (Opcional) Mostrar coeficientes con nombres de features ya transformadas\n",
    "feature_names = pipe.named_steps[\"prep\"].get_feature_names_out()\n",
    "coefs = pipe.named_steps[\"model\"].coef_\n",
    "print(\"Coeficientes:\", dict(zip(feature_names, coefs)))\n",
    "print(\"Intercepto:\", pipe.named_steps[\"model\"].intercept_)\n",
    "\n"
   ]
  },
  {
   "cell_type": "code",
   "execution_count": 11,
   "id": "55ec26ff",
   "metadata": {},
   "outputs": [
    {
     "name": "stdout",
     "output_type": "stream",
     "text": [
      "👉 Valores reales: [2750, 900, 600]\n",
      "👉 Predicciones: [np.float64(2750.0), np.float64(1100.0), np.float64(275.0000000000002)]\n"
     ]
    },
    {
     "name": "stderr",
     "output_type": "stream",
     "text": [
      "c:\\Users\\javierjaimes\\Desktop\\GitHub\\Python\\Fundamentos de datos y ML\\.venv\\Lib\\site-packages\\sklearn\\preprocessing\\_encoders.py:246: UserWarning: Found unknown categories in columns [0] during transform. These unknown categories will be encoded as all zeros\n",
      "  warnings.warn(\n"
     ]
    }
   ],
   "source": [
    "# Predicción sobre test\n",
    "y_pred = pipe.predict(X_test)\n",
    "\n",
    "print(\"👉 Valores reales:\", list(y_test))\n",
    "print(\"👉 Predicciones:\", list(y_pred))\n"
   ]
  },
  {
   "cell_type": "code",
   "execution_count": 12,
   "id": "6b1a210a",
   "metadata": {},
   "outputs": [
    {
     "name": "stdout",
     "output_type": "stream",
     "text": [
      "Predicción para 'Super': 1100.0\n",
      "Predicción para 'Agua': 275.0000000000002\n",
      "Predicción para 'Renta': 2750.0\n",
      "Predicción para 'Luz': 275.0000000000002\n",
      "Predicción para 'Gasolina': 1000.0000000000001\n"
     ]
    },
    {
     "name": "stderr",
     "output_type": "stream",
     "text": [
      "c:\\Users\\javierjaimes\\Desktop\\GitHub\\Python\\Fundamentos de datos y ML\\.venv\\Lib\\site-packages\\sklearn\\preprocessing\\_encoders.py:246: UserWarning: Found unknown categories in columns [0] during transform. These unknown categories will be encoded as all zeros\n",
      "  warnings.warn(\n"
     ]
    }
   ],
   "source": [
    "# Predicciones nuevas: ahora solo pasas el DataFrame con la columna original\n",
    "nuevo_super = pd.DataFrame({\"Concepto\": [\"Super\"]})\n",
    "nuevo_agua  = pd.DataFrame({\"Concepto\": [\"Agua\"]})\n",
    "nuevo_renta = pd.DataFrame({\"Concepto\": [\"Renta\"]})\n",
    "nuevo_luz   = pd.DataFrame({\"Concepto\": [\"Luz\"]})\n",
    "nuevo_gas   = pd.DataFrame({\"Concepto\": [\"Gasolina\"]})\n",
    "\n",
    "print(\"Predicción para 'Super':\",   pipe.predict(nuevo_super)[0])\n",
    "print(\"Predicción para 'Agua':\",    pipe.predict(nuevo_agua)[0])\n",
    "print(\"Predicción para 'Renta':\",   pipe.predict(nuevo_renta)[0])\n",
    "print(\"Predicción para 'Luz':\",     pipe.predict(nuevo_luz)[0])\n",
    "print(\"Predicción para 'Gasolina':\",pipe.predict(nuevo_gas)[0])\n",
    "\n",
    "\n"
   ]
  }
 ],
 "metadata": {
  "kernelspec": {
   "display_name": ".venv",
   "language": "python",
   "name": "python3"
  },
  "language_info": {
   "codemirror_mode": {
    "name": "ipython",
    "version": 3
   },
   "file_extension": ".py",
   "mimetype": "text/x-python",
   "name": "python",
   "nbconvert_exporter": "python",
   "pygments_lexer": "ipython3",
   "version": "3.11.9"
  }
 },
 "nbformat": 4,
 "nbformat_minor": 5
}
