{
 "cells": [
  {
   "cell_type": "code",
   "execution_count": 7,
   "id": "4f4af06e",
   "metadata": {},
   "outputs": [
    {
     "name": "stdout",
     "output_type": "stream",
     "text": [
      "✅ Modelo entrenado\n"
     ]
    }
   ],
   "source": [
    "import pandas as pd\n",
    "from sklearn.model_selection import train_test_split\n",
    "from sklearn.linear_model import LinearRegression\n",
    "from sklearn.preprocessing import OneHotEncoder\n",
    "from sklearn.compose import ColumnTransformer\n",
    "from sklearn.pipeline import Pipeline\n",
    "\n",
    "# Dataset\n",
    "data = {\n",
    "    \"Concepto\": [\"Renta\", \"Super\", \"Gasolina\", \"Super\", \"Gasolina\", \"Luz\", \"Agua\", \"Renta\", \"Agua\"],\n",
    "    \"Monto\": [2750, 900, 1200, 1100, 800, 600, 400, 2750, 150],\n",
    "}\n",
    "df = pd.DataFrame(data)\n",
    "\n",
    "# Variables\n",
    "X = df[[\"Concepto\"]]\n",
    "y = df[\"Monto\"]\n",
    "\n",
    "# Preprocesamiento + modelo\n",
    "pre = ColumnTransformer([\n",
    "    (\"cat\", OneHotEncoder(drop=\"first\", handle_unknown=\"ignore\"), [\"Concepto\"])\n",
    "])\n",
    "pipe = Pipeline([\n",
    "    (\"prep\", pre),\n",
    "    (\"model\", LinearRegression())\n",
    "])\n",
    "\n",
    "# Entrenar\n",
    "X_train, X_test, y_train, y_test = train_test_split(X, y, test_size=0.3, random_state=42)\n",
    "pipe.fit(X_train, y_train)\n",
    "print(\"✅ Modelo entrenado\")\n"
   ]
  },
  {
   "cell_type": "code",
   "execution_count": 8,
   "id": "ad52a229",
   "metadata": {},
   "outputs": [
    {
     "name": "stdout",
     "output_type": "stream",
     "text": [
      "✅ Modelo guardado como 'modelo_gastos_pipeline.joblib'\n"
     ]
    }
   ],
   "source": [
    "from joblib import dump\n",
    "\n",
    "dump(pipe, \"modelo_gastos_pipeline.joblib\")\n",
    "print(\"✅ Modelo guardado como 'modelo_gastos_pipeline.joblib'\")\n"
   ]
  },
  {
   "cell_type": "code",
   "execution_count": 9,
   "id": "d06bd170",
   "metadata": {},
   "outputs": [
    {
     "name": "stdout",
     "output_type": "stream",
     "text": [
      "✅ Modelo cargado desde disco\n"
     ]
    }
   ],
   "source": [
    "from joblib import load\n",
    "\n",
    "pipe_loaded = load(\"modelo_gastos_pipeline.joblib\")\n",
    "print(\"✅ Modelo cargado desde disco\")\n"
   ]
  },
  {
   "cell_type": "code",
   "execution_count": 10,
   "id": "05ac312f",
   "metadata": {},
   "outputs": [
    {
     "name": "stdout",
     "output_type": "stream",
     "text": [
      "Predicción para 'Super': 1100.00\n",
      "Predicción para 'Agua': 275.00\n",
      "Predicción para 'Renta': 2750.00\n"
     ]
    }
   ],
   "source": [
    "nuevo = pd.DataFrame({\"Concepto\": [\"Super\", \"Agua\", \"Renta\"]})\n",
    "pred = pipe_loaded.predict(nuevo)\n",
    "\n",
    "for c, p in zip(nuevo[\"Concepto\"], pred):\n",
    "    print(f\"Predicción para '{c}': {p:.2f}\")\n"
   ]
  }
 ],
 "metadata": {
  "kernelspec": {
   "display_name": ".venv",
   "language": "python",
   "name": "python3"
  },
  "language_info": {
   "codemirror_mode": {
    "name": "ipython",
    "version": 3
   },
   "file_extension": ".py",
   "mimetype": "text/x-python",
   "name": "python",
   "nbconvert_exporter": "python",
   "pygments_lexer": "ipython3",
   "version": "3.11.9"
  }
 },
 "nbformat": 4,
 "nbformat_minor": 5
}
