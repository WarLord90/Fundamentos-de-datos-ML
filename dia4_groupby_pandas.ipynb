{
 "cells": [
  {
   "cell_type": "code",
   "execution_count": 7,
   "id": "bc818bd7",
   "metadata": {},
   "outputs": [
    {
     "name": "stdout",
     "output_type": "stream",
     "text": [
      "   Concepto  Monto         Mes\n",
      "0     Renta   2750      Agosto\n",
      "1     Super    900      Agosto\n",
      "2  Gasolina   1200      Agosto\n",
      "3     Super   1100  Septiembre\n",
      "4  Gasolina    800  Septiembre\n",
      "5       Luz    600      Agosto\n",
      "6      Agua    400  Septiembre\n",
      "7     Renta   2750  Septiembre\n",
      "8      Agua    150  Septiembre\n"
     ]
    }
   ],
   "source": [
    "import pandas as pd\n",
    "\n",
    "data = {\n",
    "    \"Concepto\": [\"Renta\", \"Super\", \"Gasolina\", \"Super\", \"Gasolina\", \"Luz\", \"Agua\", \"Renta\",\"Agua\"],\n",
    "    \"Monto\": [2750, 900, 1200, 1100, 800, 600, 400, 2750,150],\n",
    "    \"Mes\": [\"Agosto\", \"Agosto\", \"Agosto\", \"Septiembre\", \"Septiembre\", \"Agosto\", \"Septiembre\", \"Septiembre\",\"Septiembre\"]\n",
    "}\n",
    "\n",
    "df = pd.DataFrame(data)\n",
    "print(df)\n"
   ]
  },
  {
   "cell_type": "code",
   "execution_count": 8,
   "id": "52269e15",
   "metadata": {},
   "outputs": [
    {
     "name": "stdout",
     "output_type": "stream",
     "text": [
      "Concepto\n",
      "Agua         550\n",
      "Gasolina    2000\n",
      "Luz          600\n",
      "Renta       5500\n",
      "Super       2000\n",
      "Name: Monto, dtype: int64\n"
     ]
    }
   ],
   "source": [
    "total_por_concepto = df.groupby(\"Concepto\")[\"Monto\"].sum()\n",
    "print(total_por_concepto)\n"
   ]
  },
  {
   "cell_type": "code",
   "execution_count": 9,
   "id": "bfb0d6a9",
   "metadata": {},
   "outputs": [
    {
     "name": "stdout",
     "output_type": "stream",
     "text": [
      "Mes\n",
      "Agosto        1362.5\n",
      "Septiembre    1040.0\n",
      "Name: Monto, dtype: float64\n"
     ]
    }
   ],
   "source": [
    "promedio_mes = df.groupby(\"Mes\")[\"Monto\"].mean()\n",
    "print(promedio_mes)\n"
   ]
  },
  {
   "cell_type": "code",
   "execution_count": 10,
   "id": "f5911c56",
   "metadata": {},
   "outputs": [
    {
     "name": "stdout",
     "output_type": "stream",
     "text": [
      "Mes         Concepto\n",
      "Agosto      Gasolina    1200\n",
      "            Luz          600\n",
      "            Renta       2750\n",
      "            Super        900\n",
      "Septiembre  Agua         550\n",
      "            Gasolina     800\n",
      "            Renta       2750\n",
      "            Super       1100\n",
      "Name: Monto, dtype: int64\n"
     ]
    }
   ],
   "source": [
    "detalle = df.groupby([\"Mes\", \"Concepto\"])[\"Monto\"].sum()\n",
    "print(detalle)\n"
   ]
  },
  {
   "cell_type": "code",
   "execution_count": 11,
   "id": "36bc0c43",
   "metadata": {},
   "outputs": [
    {
     "name": "stdout",
     "output_type": "stream",
     "text": [
      "             sum    mean   max  min\n",
      "Mes                                \n",
      "Agosto      5450  1362.5  2750  600\n",
      "Septiembre  5200  1040.0  2750  150\n"
     ]
    }
   ],
   "source": [
    "resumen = df.groupby(\"Mes\")[\"Monto\"].agg([\"sum\", \"mean\", \"max\", \"min\"])\n",
    "print(resumen)\n"
   ]
  },
  {
   "cell_type": "code",
   "execution_count": 12,
   "id": "a672efcc",
   "metadata": {},
   "outputs": [
    {
     "name": "stdout",
     "output_type": "stream",
     "text": [
      "                      sum    mean   max   min\n",
      "Mes        Concepto                          \n",
      "Agosto     Gasolina  1200  1200.0  1200  1200\n",
      "           Luz        600   600.0   600   600\n",
      "           Renta     2750  2750.0  2750  2750\n",
      "           Super      900   900.0   900   900\n",
      "Septiembre Agua       550   275.0   400   150\n",
      "           Gasolina   800   800.0   800   800\n",
      "           Renta     2750  2750.0  2750  2750\n",
      "           Super     1100  1100.0  1100  1100\n"
     ]
    }
   ],
   "source": [
    "detalle = df.groupby([\"Mes\", \"Concepto\"])[\"Monto\"].agg([\"sum\", \"mean\", \"max\", \"min\"])\n",
    "print(detalle)\n"
   ]
  }
 ],
 "metadata": {
  "kernelspec": {
   "display_name": ".venv",
   "language": "python",
   "name": "python3"
  },
  "language_info": {
   "codemirror_mode": {
    "name": "ipython",
    "version": 3
   },
   "file_extension": ".py",
   "mimetype": "text/x-python",
   "name": "python",
   "nbconvert_exporter": "python",
   "pygments_lexer": "ipython3",
   "version": "3.11.9"
  }
 },
 "nbformat": 4,
 "nbformat_minor": 5
}
