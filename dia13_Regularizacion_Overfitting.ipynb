{
 "cells": [
  {
   "cell_type": "code",
   "execution_count": 3,
   "id": "d9f3abfa",
   "metadata": {},
   "outputs": [],
   "source": [
    "import pandas as pd\n",
    "from sklearn.model_selection import train_test_split\n",
    "\n",
    "data = {\n",
    "    \"Agua\": [300, 280, 310, 290, 305],\n",
    "    \"Gasolina\": [1500, 1400, 1550, 1600, 1480],\n",
    "    \"Luz\": [500, 520, 480, 510, 495],\n",
    "    \"Renta\": [5000, 5000, 5000, 5000, 5000],\n",
    "    \"Super\": [2000, 2100, 1900, 2050, 1980],\n",
    "    \"Total\": [9300, 9300, 9300, 9450, 9260]\n",
    "}\n",
    "df = pd.DataFrame(data)\n",
    "X = df.drop(\"Total\", axis=1)\n",
    "y = df[\"Total\"]\n",
    "\n",
    "X_train, X_test, y_train, y_test = train_test_split(\n",
    "    X, y, test_size=0.3, random_state=42\n",
    ")\n"
   ]
  },
  {
   "cell_type": "code",
   "execution_count": 5,
   "id": "684d3bea",
   "metadata": {},
   "outputs": [
    {
     "name": "stdout",
     "output_type": "stream",
     "text": [
      "Lineal MSE : 1724.6066551635452\n",
      "Lineal RMSE: 41.5283837292465\n",
      "Coeficientes: [-0.11544755  1.1953821   0.11272044  0.          0.56360221]\n",
      "Intercepto  : 6357.996485061511\n"
     ]
    }
   ],
   "source": [
    "# === Bloque 2: Línea base (Regresión Lineal sin regularización) ===\n",
    "import numpy as np\n",
    "from sklearn.linear_model import LinearRegression\n",
    "from sklearn.metrics import mean_squared_error\n",
    "\n",
    "# Asume que X_train, X_test, y_train, y_test ya están definidos en el Bloque 1\n",
    "lin = LinearRegression()\n",
    "lin.fit(X_train, y_train)\n",
    "\n",
    "y_pred_lin = lin.predict(X_test)\n",
    "\n",
    "# MSE y RMSE compatibles con cualquier versión de sklearn\n",
    "lin_mse = mean_squared_error(y_test, y_pred_lin)   # devuelve MSE\n",
    "lin_rmse = np.sqrt(lin_mse)                        # RMSE = sqrt(MSE)\n",
    "\n",
    "print(\"Lineal MSE :\", lin_mse)\n",
    "print(\"Lineal RMSE:\", lin_rmse)\n",
    "\n",
    "# (Opcional) Ver coeficientes e intercepto\n",
    "print(\"Coeficientes:\", lin.coef_)\n",
    "print(\"Intercepto  :\", lin.intercept_)\n"
   ]
  },
  {
   "cell_type": "code",
   "execution_count": 6,
   "id": "a28909db",
   "metadata": {},
   "outputs": [
    {
     "name": "stdout",
     "output_type": "stream",
     "text": [
      "Ridge  RMSE: 14.28449046585105\n",
      "Lasso  RMSE: 3.426197761950265\n",
      "    Feature  Ridge (std.)  Lasso (std.)\n",
      "0      Agua    -16.913715    -40.759207\n",
      "1  Gasolina     34.187296     40.757640\n",
      "2       Luz     10.994096      0.000000\n",
      "3     Renta      0.000000      0.000000\n",
      "4     Super     10.994096      0.000000\n"
     ]
    }
   ],
   "source": [
    "# === Bloque 3: Ridge y Lasso con estandarización ===\n",
    "import numpy as np\n",
    "from sklearn.pipeline import Pipeline\n",
    "from sklearn.preprocessing import StandardScaler\n",
    "from sklearn.linear_model import Ridge, Lasso\n",
    "from sklearn.metrics import mean_squared_error\n",
    "\n",
    "# Ridge\n",
    "ridge_pipe = Pipeline([\n",
    "    (\"scaler\", StandardScaler()),\n",
    "    (\"model\", Ridge(alpha=1.0))\n",
    "])\n",
    "ridge_pipe.fit(X_train, y_train)\n",
    "ridge_pred = ridge_pipe.predict(X_test)\n",
    "ridge_mse = mean_squared_error(y_test, ridge_pred)\n",
    "ridge_rmse = np.sqrt(ridge_mse)\n",
    "\n",
    "# Lasso\n",
    "lasso_pipe = Pipeline([\n",
    "    (\"scaler\", StandardScaler()),\n",
    "    (\"model\", Lasso(alpha=0.1, max_iter=10000))\n",
    "])\n",
    "lasso_pipe.fit(X_train, y_train)\n",
    "lasso_pred = lasso_pipe.predict(X_test)\n",
    "lasso_mse = mean_squared_error(y_test, lasso_pred)\n",
    "lasso_rmse = np.sqrt(lasso_mse)\n",
    "\n",
    "print(\"Ridge  RMSE:\", ridge_rmse)\n",
    "print(\"Lasso  RMSE:\", lasso_rmse)\n",
    "\n",
    "# (Opcional) tabla simple de coeficientes (nota: están en espacio estandarizado)\n",
    "import pandas as pd\n",
    "features = X.columns.tolist()\n",
    "coef_ridge = ridge_pipe.named_steps[\"model\"].coef_\n",
    "coef_lasso = lasso_pipe.named_steps[\"model\"].coef_\n",
    "\n",
    "coef_table = pd.DataFrame({\n",
    "    \"Feature\": features,\n",
    "    \"Ridge (std.)\": coef_ridge,\n",
    "    \"Lasso (std.)\": coef_lasso\n",
    "})\n",
    "print(coef_table)\n"
   ]
  },
  {
   "cell_type": "code",
   "execution_count": 7,
   "id": "afcf519f",
   "metadata": {},
   "outputs": [
    {
     "name": "stdout",
     "output_type": "stream",
     "text": [
      "Mejor Ridge alpha: 0.001  | RMSE CV: 20.592680807621967\n",
      "Mejor Lasso alpha: 0.01  | RMSE CV: 12.461700668728794\n"
     ]
    }
   ],
   "source": [
    "# === Bloque 4: Búsqueda de alpha (CV) ===\n",
    "from sklearn.model_selection import GridSearchCV, KFold\n",
    "\n",
    "cv = KFold(n_splits=3, shuffle=True, random_state=42)\n",
    "\n",
    "# Ridge con CV\n",
    "ridge_cv = GridSearchCV(\n",
    "    estimator=Pipeline([(\"scaler\", StandardScaler()), (\"model\", Ridge())]),\n",
    "    param_grid={\"model__alpha\": [0.001, 0.01, 0.1, 1, 10]},\n",
    "    scoring=\"neg_mean_squared_error\",  # usamos MSE y luego sacamos la raíz\n",
    "    cv=cv\n",
    ")\n",
    "ridge_cv.fit(X, y)\n",
    "best_ridge_alpha = ridge_cv.best_params_[\"model__alpha\"]\n",
    "best_ridge_rmse = np.sqrt(-ridge_cv.best_score_)\n",
    "print(\"Mejor Ridge alpha:\", best_ridge_alpha, \" | RMSE CV:\", best_ridge_rmse)\n",
    "\n",
    "# Lasso con CV\n",
    "lasso_cv = GridSearchCV(\n",
    "    estimator=Pipeline([(\"scaler\", StandardScaler()), (\"model\", Lasso(max_iter=10000))]),\n",
    "    param_grid={\"model__alpha\": [0.001, 0.01, 0.1, 1, 10]},\n",
    "    scoring=\"neg_mean_squared_error\",\n",
    "    cv=cv\n",
    ")\n",
    "lasso_cv.fit(X, y)\n",
    "best_lasso_alpha = lasso_cv.best_params_[\"model__alpha\"]\n",
    "best_lasso_rmse = np.sqrt(-lasso_cv.best_score_)\n",
    "print(\"Mejor Lasso alpha:\", best_lasso_alpha, \" | RMSE CV:\", best_lasso_rmse)\n"
   ]
  },
  {
   "cell_type": "code",
   "execution_count": 9,
   "id": "d9c211d8",
   "metadata": {},
   "outputs": [
    {
     "name": "stdout",
     "output_type": "stream",
     "text": [
      "Modelo guardado en 'modelo_mejor_dia13.pkl'\n",
      "Predicción para nuevo ejemplo: 9277.264746384673\n"
     ]
    }
   ],
   "source": [
    "import joblib\n",
    "\n",
    "# === Guardar el mejor modelo ===\n",
    "# Supongamos que elegiste el mejor entre ridge_cv y lasso_cv\n",
    "# (puedes cambiar aquí si tu preferido fue Ridge)\n",
    "best_model = lasso_cv.best_estimator_\n",
    "\n",
    "# Guardamos a un archivo .pkl\n",
    "joblib.dump(best_model, \"modelo_mejor_dia13.pkl\")\n",
    "print(\"Modelo guardado en 'modelo_mejor_dia13.pkl'\")\n",
    "\n",
    "# === Cargar el modelo cuando quieras usarlo ===\n",
    "modelo_cargado = joblib.load(\"modelo_mejor_dia13.pkl\")\n",
    "\n",
    "# === Usar el modelo cargado para predecir ===\n",
    "nuevo = pd.DataFrame({\n",
    "    \"Agua\": [310],\n",
    "    \"Gasolina\": [1520],\n",
    "    \"Luz\": [505],\n",
    "    \"Renta\": [5000],\n",
    "    \"Super\": [2000]\n",
    "})\n",
    "prediccion = modelo_cargado.predict(nuevo)\n",
    "print(\"Predicción para nuevo ejemplo:\", prediccion[0])\n"
   ]
  }
 ],
 "metadata": {
  "kernelspec": {
   "display_name": ".venv",
   "language": "python",
   "name": "python3"
  },
  "language_info": {
   "codemirror_mode": {
    "name": "ipython",
    "version": 3
   },
   "file_extension": ".py",
   "mimetype": "text/x-python",
   "name": "python",
   "nbconvert_exporter": "python",
   "pygments_lexer": "ipython3",
   "version": "3.11.9"
  }
 },
 "nbformat": 4,
 "nbformat_minor": 5
}
